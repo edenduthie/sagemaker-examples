{
 "cells": [
  {
   "cell_type": "markdown",
   "metadata": {},
   "source": [
    "# Data Preparation for Video Recommender\n",
    "\n",
    "There are a few steps which were performed to prepare the data directly in a Jupyter notebook. These included removing empty rows, removing the customers who rated less than 5 movies, and removing videos which had less than 10 reviews.\n",
    "\n",
    "In this section this pre-processing is doen using Amazon Athena instead. Athena is built using Presto and allows the user to run sql queries directly on data stored in s3 and more. This allows joining tables, and processing the data so it is in a form to be used by the algorithm. This allows easy processing of large amounts of data.\n",
    "\n",
    "In a real business example data will we sourced from a large variety of various tables and databases. It is also likely that each of these sources will contain much more data than can fit in memory directly. This is where Athena can be very useful.\n",
    "\n",
    "There are alternative approaches to achieve this such as processing files in chunks, using Hadoop or Spark, or accessing data from a datawarehouse such as Redshift. Athena has the advantage that it is very simple and cheap while covering a large number of use cases.\n"
   ]
  },
  {
   "cell_type": "markdown",
   "metadata": {},
   "source": [
    "### Import requirements"
   ]
  },
  {
   "cell_type": "code",
   "execution_count": 1,
   "metadata": {},
   "outputs": [],
   "source": [
    "import boto3\n",
    "bucket = 'eduthie-sagemaker-1'\n",
    "prefix = 'gluon_recommender'\n",
    "client = boto3.client('athena')"
   ]
  },
  {
   "cell_type": "markdown",
   "metadata": {},
   "source": [
    "### Start the query execution"
   ]
  },
  {
   "cell_type": "code",
   "execution_count": 2,
   "metadata": {},
   "outputs": [],
   "source": [
    "query_string = '''\n",
    "select a.customer_id, a.product_id, a.star_rating, a.product_title \n",
    "from train a\n",
    "inner join\n",
    "(\n",
    "    select customer_id\n",
    "    from train\n",
    "    group by customer_id \n",
    "    having count(customer_id) >= 5\n",
    ") b\n",
    "on a.customer_id = b.customer_id\n",
    "inner join\n",
    "(\n",
    "    select product_id\n",
    "    from train\n",
    "    group by product_id \n",
    "    having count(product_id) >= 10\n",
    ") b\n",
    "on a.product_id = b.product_id\n",
    "where \n",
    "    a.customer_id is not null\n",
    "'''\n",
    "create_query_response = client.start_query_execution(\n",
    "    QueryString=query_string,\n",
    "    QueryExecutionContext={\n",
    "        'Database': 'product_ratings'\n",
    "    },\n",
    "    ResultConfiguration={\n",
    "        'OutputLocation': 's3://{}/{}/processed/'.format(bucket,prefix)\n",
    "    }\n",
    ")"
   ]
  },
  {
   "cell_type": "markdown",
   "metadata": {},
   "source": [
    "After the query has been kicked off Athena gives us a QueryExecutionId which is then used to view the results.\n",
    "\n",
    "Behind the scenes Athena is executing the query and outputing the results to the s3 bucket which was specified in the OutputLocation of the ResultConfiguration."
   ]
  },
  {
   "cell_type": "code",
   "execution_count": 3,
   "metadata": {},
   "outputs": [
    {
     "data": {
      "text/plain": [
       "{'QueryExecutionId': '73e6f5c7-d8e0-41f9-a9de-3530da6d220d',\n",
       " 'ResponseMetadata': {'HTTPHeaders': {'connection': 'keep-alive',\n",
       "   'content-length': '59',\n",
       "   'content-type': 'application/x-amz-json-1.1',\n",
       "   'date': 'Tue, 05 Jun 2018 07:23:32 GMT',\n",
       "   'x-amzn-requestid': '752bffbe-d760-4d68-8cbf-c9583a0f95b4'},\n",
       "  'HTTPStatusCode': 200,\n",
       "  'RequestId': '752bffbe-d760-4d68-8cbf-c9583a0f95b4',\n",
       "  'RetryAttempts': 0}}"
      ]
     },
     "execution_count": 3,
     "metadata": {},
     "output_type": "execute_result"
    }
   ],
   "source": [
    "create_query_response"
   ]
  },
  {
   "cell_type": "markdown",
   "metadata": {},
   "source": [
    "### Wait for the query to finish\n",
    "\n",
    "The query is executed by Athena asynchronously. This is very useful, for example, if you want to trigger the job via a Lambda function. With Lambda you only pay for when the function is running and hence it is very cheap to just fire off the query and return.\n",
    "\n",
    "In this case we poll Athena every second until the query has finished. It takes about 30 seconds to perform the job."
   ]
  },
  {
   "cell_type": "code",
   "execution_count": 4,
   "metadata": {},
   "outputs": [],
   "source": [
    "import time\n",
    "waiting = True\n",
    "query_execution_response = None\n",
    "while(waiting):\n",
    "    query_execution_response = client.get_query_execution(\n",
    "        QueryExecutionId=create_query_response['QueryExecutionId']\n",
    "    )\n",
    "    if query_execution_response['QueryExecution']['Status']['State'] == 'SUCCEEDED':\n",
    "        waiting = False\n",
    "    else:\n",
    "        time.sleep(1)"
   ]
  },
  {
   "cell_type": "markdown",
   "metadata": {},
   "source": [
    "Once the query is finished a lot of information is provided, including the output location in s3 where the results are stored. You can also directly recieve the results in the notebook using the API if you wish. We will want to access the data from s3 when training and running our model and hence keep it in s3."
   ]
  },
  {
   "cell_type": "code",
   "execution_count": 5,
   "metadata": {},
   "outputs": [
    {
     "data": {
      "text/plain": [
       "{'QueryExecution': {'Query': 'select a.customer_id, a.product_id, a.star_rating, a.product_title \\nfrom train a\\ninner join\\n(\\n    select customer_id\\n    from train\\n    group by customer_id \\n    having count(customer_id) >= 5\\n) b\\non a.customer_id = b.customer_id\\ninner join\\n(\\n    select product_id\\n    from train\\n    group by product_id \\n    having count(product_id) >= 10\\n) b\\non a.product_id = b.product_id\\nwhere \\n    a.customer_id is not null',\n",
       "  'QueryExecutionContext': {'Database': 'product_ratings'},\n",
       "  'QueryExecutionId': '73e6f5c7-d8e0-41f9-a9de-3530da6d220d',\n",
       "  'ResultConfiguration': {'OutputLocation': 's3://eduthie-sagemaker-1/gluon_recommender/processed/73e6f5c7-d8e0-41f9-a9de-3530da6d220d.csv'},\n",
       "  'Statistics': {'DataScannedInBytes': 1520928030,\n",
       "   'EngineExecutionTimeInMillis': 24915},\n",
       "  'Status': {'CompletionDateTime': datetime.datetime(2018, 6, 5, 7, 23, 58, 119000, tzinfo=tzlocal()),\n",
       "   'State': 'SUCCEEDED',\n",
       "   'SubmissionDateTime': datetime.datetime(2018, 6, 5, 7, 23, 33, 57000, tzinfo=tzlocal())}},\n",
       " 'ResponseMetadata': {'HTTPHeaders': {'connection': 'keep-alive',\n",
       "   'content-length': '1998',\n",
       "   'content-type': 'application/x-amz-json-1.1',\n",
       "   'date': 'Tue, 05 Jun 2018 07:24:16 GMT',\n",
       "   'x-amzn-requestid': '86840501-ebf3-41a2-9483-0773f8e8473a'},\n",
       "  'HTTPStatusCode': 200,\n",
       "  'RequestId': '86840501-ebf3-41a2-9483-0773f8e8473a',\n",
       "  'RetryAttempts': 0}}"
      ]
     },
     "execution_count": 5,
     "metadata": {},
     "output_type": "execute_result"
    }
   ],
   "source": [
    "query_execution_response"
   ]
  },
  {
   "cell_type": "markdown",
   "metadata": {},
   "source": [
    "### Copy the output\n",
    "\n",
    "Finally we copy the output to the training directory with a predictable name which we will use for training."
   ]
  },
  {
   "cell_type": "code",
   "execution_count": 6,
   "metadata": {},
   "outputs": [],
   "source": [
    "file_location = query_execution_response['QueryExecution']['ResultConfiguration']['OutputLocation']\n",
    "key = file_location[len('s3://{}/'.format(bucket)):]\n",
    "boto3.client('s3').copy({'Bucket': bucket, \n",
    "                         'Key': key\n",
    "                        },\n",
    "                        bucket,\n",
    "                        prefix + '/train_ready/amazon_reviews_us_Digital_Video_Download.csv')"
   ]
  },
  {
   "cell_type": "code",
   "execution_count": null,
   "metadata": {},
   "outputs": [],
   "source": []
  }
 ],
 "metadata": {
  "kernelspec": {
   "display_name": "conda_python3",
   "language": "python",
   "name": "conda_python3"
  },
  "language_info": {
   "codemirror_mode": {
    "name": "ipython",
    "version": 3
   },
   "file_extension": ".py",
   "mimetype": "text/x-python",
   "name": "python",
   "nbconvert_exporter": "python",
   "pygments_lexer": "ipython3",
   "version": "3.6.4"
  }
 },
 "nbformat": 4,
 "nbformat_minor": 2
}
