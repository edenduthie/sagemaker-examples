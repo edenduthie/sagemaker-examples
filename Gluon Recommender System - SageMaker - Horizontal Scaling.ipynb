{
 "cells": [
  {
   "cell_type": "code",
   "execution_count": 1,
   "metadata": {},
   "outputs": [],
   "source": [
    "bucket = 'eduthie-sagemaker-1'\n",
    "prefix = 'gluon_recommender'\n",
    "\n",
    "import sagemaker\n",
    "role = sagemaker.get_execution_role()\n",
    "\n",
    "import os\n",
    "import mxnet as mx\n",
    "from mxnet import gluon, nd, ndarray\n",
    "from mxnet.metric import MSE\n",
    "import pandas as pd\n",
    "import numpy as np\n",
    "import sagemaker\n",
    "from sagemaker.mxnet import MXNet\n",
    "import boto3\n",
    "import json\n",
    "import matplotlib.pyplot as plt"
   ]
  },
  {
   "cell_type": "code",
   "execution_count": null,
   "metadata": {},
   "outputs": [
    {
     "name": "stderr",
     "output_type": "stream",
     "text": [
      "INFO:sagemaker:Creating training-job with name: sagemaker-mxnet-2018-06-04-08-35-45-986\n"
     ]
    },
    {
     "name": "stdout",
     "output_type": "stream",
     "text": [
      "........................................\n",
      "\u001b[31m2018-06-04 08:42:13,336 INFO - root - running container entrypoint\u001b[0m\n",
      "\u001b[31m2018-06-04 08:42:13,337 INFO - root - starting train task\u001b[0m\n",
      "\u001b[31m2018-06-04 08:42:13,710 INFO - container_support.training - Training starting\u001b[0m\n",
      "\u001b[31m2018-06-04 08:42:15,171 INFO - mxnet_container.train - MXNetTrainingEnvironment: {'available_cpus': 64, '_scheduler_ip': '10.32.0.4', 'hyperparameters': {'sagemaker_enable_cloudwatch_metrics': False, 'sagemaker_program': 'recommender.py', 'sagemaker_submit_directory': 's3://sagemaker-eu-west-1-987551451182/sagemaker-mxnet-2018-06-04-08-35-45-986/source/sourcedir.tar.gz', 'sagemaker_region': 'eu-west-1', 'num_embeddings': 512, 'sagemaker_container_log_level': 20, 'lr': 0.02, 'wd': 0.0, 'opt': 'sgd', 'sagemaker_job_name': 'sagemaker-mxnet-2018-06-04-08-35-45-986', 'epochs': 10, 'momentum': 0.9}, '_scheduler_host': 'algo-1', 'output_dir': '/opt/ml/output', 'user_script_name': 'recommender.py', 'user_script_archive': 's3://sagemaker-eu-west-1-987551451182/sagemaker-mxnet-2018-06-04-08-35-45-986/source/sourcedir.tar.gz', 'code_dir': '/opt/ml/code', 'channels': {'train': {'S3DistributionType': 'FullyReplicated', 'RecordWrapperType': 'None', 'TrainingInputMode': 'File'}}, 'model_dir': '/opt/ml/model', 'job_name': 'sagemaker-mxnet-2018-06-04-08-35-45-986', '_ps_port': 8000, 'base_dir': '/opt/ml', 'channel_dirs': {'train': '/opt/ml/input/data/train'}, 'hosts': ['algo-1'], 'resource_config': {'network_interface_name': 'ethwe', 'hosts': ['algo-1'], 'current_host': 'algo-1'}, 'sagemaker_region': 'eu-west-1', 'available_gpus': 16, 'input_config_dir': '/opt/ml/input/config', 'container_log_level': 20, '_ps_verbose': 0, 'current_host': 'algo-1', 'input_dir': '/opt/ml/input', 'output_data_dir': '/opt/ml/output/data/', 'user_requirements_file': None, 'enable_cloudwatch_metrics': False}\u001b[0m\n",
      "\u001b[31mDownloading s3://sagemaker-eu-west-1-987551451182/sagemaker-mxnet-2018-06-04-08-35-45-986/source/sourcedir.tar.gz to /tmp/script.tar.gz\u001b[0m\n",
      "\u001b[31m2018-06-04 08:42:15,298 INFO - botocore.vendored.requests.packages.urllib3.connectionpool - Starting new HTTP connection (1): 169.254.170.2\u001b[0m\n",
      "\u001b[31m2018-06-04 08:42:15,397 INFO - botocore.vendored.requests.packages.urllib3.connectionpool - Starting new HTTPS connection (1): sagemaker-eu-west-1-987551451182.s3.amazonaws.com\u001b[0m\n",
      "\u001b[31m2018-06-04 08:42:15,442 INFO - botocore.vendored.requests.packages.urllib3.connectionpool - Starting new HTTPS connection (2): sagemaker-eu-west-1-987551451182.s3.amazonaws.com\u001b[0m\n",
      "\u001b[31m2018-06-04 08:42:15,456 INFO - botocore.vendored.requests.packages.urllib3.connectionpool - Starting new HTTPS connection (1): sagemaker-eu-west-1-987551451182.s3.eu-west-1.amazonaws.com\u001b[0m\n",
      "\u001b[31m2018-06-04 08:42:15,501 INFO - botocore.vendored.requests.packages.urllib3.connectionpool - Starting new HTTPS connection (2): sagemaker-eu-west-1-987551451182.s3.eu-west-1.amazonaws.com\u001b[0m\n",
      "\u001b[31m2018-06-04 08:42:15,693 INFO - mxnet_container.train - Starting distributed training task\u001b[0m\n",
      "\u001b[31mCollecting pandas\n",
      "  Downloading https://files.pythonhosted.org/packages/a5/c1/43966a4ce89d0c64111f46c6364ed57d6d87e6fab7d685dca06197a19cf7/pandas-0.23.0-cp35-cp35m-manylinux1_x86_64.whl (11.6MB)\u001b[0m\n",
      "\u001b[31mCollecting pytz>=2011k (from pandas)\n",
      "  Downloading https://files.pythonhosted.org/packages/dc/83/15f7833b70d3e067ca91467ca245bae0f6fe56ddc7451aa0dc5606b120f2/pytz-2018.4-py2.py3-none-any.whl (510kB)\u001b[0m\n",
      "\u001b[31mRequirement already satisfied: numpy>=1.9.0 in /usr/local/lib/python3.5/dist-packages (from pandas) (1.13.3)\u001b[0m\n",
      "\u001b[31mRequirement already satisfied: python-dateutil>=2.5.0 in /usr/local/lib/python3.5/dist-packages (from pandas) (2.7.3)\u001b[0m\n",
      "\u001b[31mRequirement already satisfied: six>=1.5 in /usr/local/lib/python3.5/dist-packages (from python-dateutil>=2.5.0->pandas) (1.11.0)\u001b[0m\n",
      "\u001b[31mInstalling collected packages: pytz, pandas\u001b[0m\n",
      "\u001b[31mSuccessfully installed pandas-0.23.0 pytz-2018.4\u001b[0m\n",
      "\u001b[31m/usr/local/lib/python3.5/dist-packages/mxnet_container/train.py:178: DeprecationWarning: inspect.getargspec() is deprecated, use inspect.signature() instead\n",
      "  train_args = inspect.getargspec(user_module.train)\u001b[0m\n",
      "\u001b[31mb'Skipping line 92523: expected 15 fields, saw 22\\n'\u001b[0m\n",
      "\u001b[31mb'Skipping line 343254: expected 15 fields, saw 22\\n'\u001b[0m\n",
      "\u001b[31mb'Skipping line 524626: expected 15 fields, saw 22\\n'\u001b[0m\n",
      "\u001b[31mb'Skipping line 623024: expected 15 fields, saw 22\\n'\u001b[0m\n",
      "\u001b[31mb'Skipping line 977412: expected 15 fields, saw 22\\n'\u001b[0m\n",
      "\u001b[31mb'Skipping line 1496867: expected 15 fields, saw 22\\n'\u001b[0m\n",
      "\u001b[31mb'Skipping line 1711638: expected 15 fields, saw 22\\n'\u001b[0m\n",
      "\u001b[31mb'Skipping line 1787213: expected 15 fields, saw 22\\n'\u001b[0m\n",
      "\u001b[31mb'Skipping line 2395306: expected 15 fields, saw 22\\n'\u001b[0m\n",
      "\u001b[31mb'Skipping line 2527690: expected 15 fields, saw 22\\n'\u001b[0m\n"
     ]
    },
    {
     "name": "stderr",
     "output_type": "stream",
     "text": [
      "/home/ec2-user/anaconda3/envs/mxnet_p36/lib/python3.6/site-packages/sagemaker/session.py:630: DeprecationWarning: generator 'multi_stream_iter' raised StopIteration\n",
      "  for idx, event in sagemaker.logs.multi_stream_iter(client, log_group, stream_names, positions):\n"
     ]
    },
    {
     "name": "stdout",
     "output_type": "stream",
     "text": [
      "\u001b[31mepoch: 0\u001b[0m\n",
      "\u001b[31mEPOCH 0: MSE ON TRAINING and TEST: 0.9683504440737865. 1.3518057554076717\u001b[0m\n",
      "\u001b[31mepoch: 1\u001b[0m\n",
      "\u001b[31mEPOCH 1: MSE ON TRAINING and TEST: 0.8440807554593421. 1.2407326508173242\u001b[0m\n",
      "\u001b[31mepoch: 2\u001b[0m\n",
      "\u001b[31mEPOCH 2: MSE ON TRAINING and TEST: 0.79589849029699. 1.205945230196384\u001b[0m\n",
      "\u001b[31mepoch: 3\u001b[0m\n",
      "\u001b[31mEPOCH 3: MSE ON TRAINING and TEST: 0.8308787389937806. 1.2394235321366256\u001b[0m\n",
      "\u001b[31mepoch: 4\u001b[0m\n",
      "\u001b[31mEPOCH 7: MSE ON TRAINING and TEST: 0.6722131938437601. 1.219422062555224\u001b[0m\n",
      "\u001b[31mepoch: 8\u001b[0m\n",
      "\u001b[31mEPOCH 8: MSE ON TRAINING and TEST: 0.5154444976276445. 1.2505068283702248\u001b[0m\n",
      "\u001b[31mepoch: 9\u001b[0m\n",
      "\u001b[31mEPOCH 9: MSE ON TRAINING and TEST: 0.3398741641003822. 1.2781291879297254\u001b[0m\n",
      "\u001b[31mend of training\u001b[0m\n",
      "===== Job Complete =====\n",
      "Billable seconds: 8941\n"
     ]
    }
   ],
   "source": [
    "opt = 'sgd'\n",
    "lr = 0.02\n",
    "momentum = 0.9\n",
    "wd = 0.\n",
    "\n",
    "m = MXNet('recommender.py', \n",
    "          py_version='py3',\n",
    "          role=role, \n",
    "          train_instance_count=10, \n",
    "          train_instance_type=\"ml.p2.16xlarge\",\n",
    "          output_path='s3://{}/{}/output'.format(bucket, prefix),\n",
    "          hyperparameters={'num_embeddings': 512, \n",
    "                           'opt': opt, \n",
    "                           'lr': lr, \n",
    "                           'momentum': momentum, \n",
    "                           'wd': wd,\n",
    "                           'epochs': 10})\n",
    "\n",
    "m.fit({'train': 's3://{}/{}/train/'.format(bucket, prefix)})"
   ]
  },
  {
   "cell_type": "markdown",
   "metadata": {},
   "source": [
    "### Calculate total cost of training\n",
    "\n",
    "The cost of training on such a large instance with 16 GPUs is relatively expensive at 21.773 euros per hour. Fortunately it is charged by the second. Here we calculate the total price.\n",
    "\n",
    "There is a lot more that can be done to optimise training speed and hence cost. "
   ]
  },
  {
   "cell_type": "code",
   "execution_count": 5,
   "metadata": {},
   "outputs": [
    {
     "name": "stdout",
     "output_type": "stream",
     "text": [
      "54.07566472222222\n"
     ]
    }
   ],
   "source": [
    "price_per_second = 21.773/(60*60)\n",
    "total_price = 8941*price_per_second\n",
    "print(total_price)"
   ]
  },
  {
   "cell_type": "code",
   "execution_count": null,
   "metadata": {},
   "outputs": [],
   "source": []
  }
 ],
 "metadata": {
  "kernelspec": {
   "display_name": "conda_mxnet_p36",
   "language": "python",
   "name": "conda_mxnet_p36"
  },
  "language_info": {
   "codemirror_mode": {
    "name": "ipython",
    "version": 3
   },
   "file_extension": ".py",
   "mimetype": "text/x-python",
   "name": "python",
   "nbconvert_exporter": "python",
   "pygments_lexer": "ipython3",
   "version": "3.6.4"
  }
 },
 "nbformat": 4,
 "nbformat_minor": 2
}
