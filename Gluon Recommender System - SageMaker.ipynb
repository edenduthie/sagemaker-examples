{
 "cells": [
  {
   "cell_type": "code",
   "execution_count": 1,
   "metadata": {},
   "outputs": [],
   "source": [
    "bucket = 'eduthie-sagemaker-1'\n",
    "prefix = 'gluon_recommender'\n",
    "\n",
    "import sagemaker\n",
    "role = sagemaker.get_execution_role()\n",
    "\n",
    "import os\n",
    "import mxnet as mx\n",
    "from mxnet import gluon, nd, ndarray\n",
    "from mxnet.metric import MSE\n",
    "import pandas as pd\n",
    "import numpy as np\n",
    "import sagemaker\n",
    "from sagemaker.mxnet import MXNet\n",
    "import boto3\n",
    "import json\n",
    "import matplotlib.pyplot as plt"
   ]
  },
  {
   "cell_type": "code",
   "execution_count": null,
   "metadata": {},
   "outputs": [
    {
     "name": "stderr",
     "output_type": "stream",
     "text": [
      "INFO:sagemaker:Creating training-job with name: sagemaker-mxnet-2018-06-04-07-58-00-863\n"
     ]
    },
    {
     "name": "stdout",
     "output_type": "stream",
     "text": [
      "...........................\n",
      "\u001b[31m2018-06-04 08:02:13,592 INFO - root - running container entrypoint\u001b[0m\n",
      "\u001b[31m2018-06-04 08:02:13,592 INFO - root - starting train task\u001b[0m\n",
      "\u001b[31m2018-06-04 08:02:13,612 INFO - container_support.training - Training starting\u001b[0m\n",
      "\u001b[31m2018-06-04 08:02:15,394 INFO - mxnet_container.train - MXNetTrainingEnvironment: {'_scheduler_ip': '10.32.0.4', 'user_script_archive': 's3://sagemaker-eu-west-1-987551451182/sagemaker-mxnet-2018-06-04-07-58-00-863/source/sourcedir.tar.gz', 'user_script_name': 'recommender.py', 'hyperparameters': {'sagemaker_submit_directory': 's3://sagemaker-eu-west-1-987551451182/sagemaker-mxnet-2018-06-04-07-58-00-863/source/sourcedir.tar.gz', 'wd': 0.0, 'lr': 0.02, 'opt': 'sgd', 'num_embeddings': 512, 'sagemaker_job_name': 'sagemaker-mxnet-2018-06-04-07-58-00-863', 'sagemaker_region': 'eu-west-1', 'epochs': 10, 'sagemaker_container_log_level': 20, 'sagemaker_enable_cloudwatch_metrics': False, 'momentum': 0.9, 'sagemaker_program': 'recommender.py'}, 'current_host': 'algo-1', 'output_dir': '/opt/ml/output', '_scheduler_host': 'algo-1', 'available_gpus': 1, 'user_requirements_file': None, 'job_name': 'sagemaker-mxnet-2018-06-04-07-58-00-863', 'channels': {'train': {'S3DistributionType': 'FullyReplicated', 'TrainingInputMode': 'File', 'RecordWrapperType': 'None'}}, 'resource_config': {'hosts': ['algo-1'], 'current_host': 'algo-1', 'network_interface_name': 'ethwe'}, 'sagemaker_region': 'eu-west-1', 'input_dir': '/opt/ml/input', 'base_dir': '/opt/ml', 'output_data_dir': '/opt/ml/output/data/', '_ps_verbose': 0, 'code_dir': '/opt/ml/code', 'enable_cloudwatch_metrics': False, 'channel_dirs': {'train': '/opt/ml/input/data/train'}, '_ps_port': 8000, 'available_cpus': 4, 'container_log_level': 20, 'input_config_dir': '/opt/ml/input/config', 'model_dir': '/opt/ml/model', 'hosts': ['algo-1']}\u001b[0m\n",
      "\u001b[31mDownloading s3://sagemaker-eu-west-1-987551451182/sagemaker-mxnet-2018-06-04-07-58-00-863/source/sourcedir.tar.gz to /tmp/script.tar.gz\u001b[0m\n",
      "\u001b[31m2018-06-04 08:02:15,508 INFO - botocore.vendored.requests.packages.urllib3.connectionpool - Starting new HTTP connection (1): 169.254.170.2\u001b[0m\n",
      "\u001b[31m2018-06-04 08:02:15,599 INFO - botocore.vendored.requests.packages.urllib3.connectionpool - Starting new HTTPS connection (1): sagemaker-eu-west-1-987551451182.s3.amazonaws.com\u001b[0m\n",
      "\u001b[31m2018-06-04 08:02:15,644 INFO - botocore.vendored.requests.packages.urllib3.connectionpool - Starting new HTTPS connection (2): sagemaker-eu-west-1-987551451182.s3.amazonaws.com\u001b[0m\n",
      "\u001b[31m2018-06-04 08:02:15,660 INFO - botocore.vendored.requests.packages.urllib3.connectionpool - Starting new HTTPS connection (1): sagemaker-eu-west-1-987551451182.s3.eu-west-1.amazonaws.com\u001b[0m\n",
      "\u001b[31m2018-06-04 08:02:15,726 INFO - botocore.vendored.requests.packages.urllib3.connectionpool - Starting new HTTPS connection (2): sagemaker-eu-west-1-987551451182.s3.eu-west-1.amazonaws.com\u001b[0m\n",
      "\u001b[31m2018-06-04 08:02:15,856 INFO - mxnet_container.train - Starting distributed training task\u001b[0m\n",
      "\u001b[31mCollecting pandas\n",
      "  Downloading https://files.pythonhosted.org/packages/a5/c1/43966a4ce89d0c64111f46c6364ed57d6d87e6fab7d685dca06197a19cf7/pandas-0.23.0-cp35-cp35m-manylinux1_x86_64.whl (11.6MB)\u001b[0m\n",
      "\u001b[31mRequirement already satisfied: python-dateutil>=2.5.0 in /usr/local/lib/python3.5/dist-packages (from pandas) (2.7.3)\u001b[0m\n",
      "\u001b[31mCollecting pytz>=2011k (from pandas)\u001b[0m\n",
      "\u001b[31m  Downloading https://files.pythonhosted.org/packages/dc/83/15f7833b70d3e067ca91467ca245bae0f6fe56ddc7451aa0dc5606b120f2/pytz-2018.4-py2.py3-none-any.whl (510kB)\u001b[0m\n",
      "\u001b[31mRequirement already satisfied: numpy>=1.9.0 in /usr/local/lib/python3.5/dist-packages (from pandas) (1.13.3)\u001b[0m\n",
      "\u001b[31mRequirement already satisfied: six>=1.5 in /usr/local/lib/python3.5/dist-packages (from python-dateutil>=2.5.0->pandas) (1.11.0)\u001b[0m\n",
      "\u001b[31mInstalling collected packages: pytz, pandas\u001b[0m\n",
      "\u001b[31mSuccessfully installed pandas-0.23.0 pytz-2018.4\u001b[0m\n",
      "\u001b[31m/usr/local/lib/python3.5/dist-packages/mxnet_container/train.py:178: DeprecationWarning: inspect.getargspec() is deprecated, use inspect.signature() instead\n",
      "  train_args = inspect.getargspec(user_module.train)\u001b[0m\n",
      "\u001b[31mb'Skipping line 92523: expected 15 fields, saw 22\\n'\u001b[0m\n",
      "\u001b[31mb'Skipping line 343254: expected 15 fields, saw 22\\n'\u001b[0m\n",
      "\u001b[31mb'Skipping line 524626: expected 15 fields, saw 22\\n'\u001b[0m\n",
      "\u001b[31mb'Skipping line 623024: expected 15 fields, saw 22\\n'\u001b[0m\n",
      "\u001b[31mb'Skipping line 977412: expected 15 fields, saw 22\\n'\u001b[0m\n",
      "\u001b[31mb'Skipping line 1496867: expected 15 fields, saw 22\\n'\u001b[0m\n",
      "\u001b[31mb'Skipping line 1711638: expected 15 fields, saw 22\\n'\u001b[0m\n",
      "\u001b[31mb'Skipping line 1787213: expected 15 fields, saw 22\\n'\u001b[0m\n",
      "\u001b[31mb'Skipping line 2395306: expected 15 fields, saw 22\\n'\u001b[0m\n",
      "\u001b[31mb'Skipping line 2527690: expected 15 fields, saw 22\\n'\u001b[0m\n"
     ]
    },
    {
     "name": "stderr",
     "output_type": "stream",
     "text": [
      "/home/ec2-user/anaconda3/envs/mxnet_p36/lib/python3.6/site-packages/sagemaker/session.py:630: DeprecationWarning: generator 'multi_stream_iter' raised StopIteration\n",
      "  for idx, event in sagemaker.logs.multi_stream_iter(client, log_group, stream_names, positions):\n"
     ]
    },
    {
     "name": "stdout",
     "output_type": "stream",
     "text": [
      "\u001b[31mepoch: 0\u001b[0m\n",
      "\u001b[31mEPOCH 0: MSE ON TRAINING and TEST: 0.9302248900111213. 1.310954543363681\u001b[0m\n",
      "\u001b[31mepoch: 1\u001b[0m\n",
      "\u001b[31mEPOCH 1: MSE ON TRAINING and TEST: 0.8960508768252077. 1.2732435116372331\u001b[0m\n",
      "\u001b[31mepoch: 2\u001b[0m\n"
     ]
    }
   ],
   "source": [
    "opt = 'sgd'\n",
    "lr = 0.02\n",
    "momentum = 0.9\n",
    "wd = 0.\n",
    "\n",
    "m = MXNet('recommender.py', \n",
    "          py_version='py3',\n",
    "          role=role, \n",
    "          train_instance_count=1, \n",
    "          train_instance_type=\"ml.p2.xlarge\",\n",
    "          output_path='s3://{}/{}/output'.format(bucket, prefix),\n",
    "          hyperparameters={'num_embeddings': 512, \n",
    "                           'opt': opt, \n",
    "                           'lr': lr, \n",
    "                           'momentum': momentum, \n",
    "                           'wd': wd,\n",
    "                           'epochs': 10})\n",
    "\n",
    "m.fit({'train': 's3://{}/{}/train/'.format(bucket, prefix)})"
   ]
  },
  {
   "cell_type": "code",
   "execution_count": null,
   "metadata": {},
   "outputs": [],
   "source": []
  }
 ],
 "metadata": {
  "kernelspec": {
   "display_name": "conda_mxnet_p36",
   "language": "python",
   "name": "conda_mxnet_p36"
  },
  "language_info": {
   "codemirror_mode": {
    "name": "ipython",
    "version": 3
   },
   "file_extension": ".py",
   "mimetype": "text/x-python",
   "name": "python",
   "nbconvert_exporter": "python",
   "pygments_lexer": "ipython3",
   "version": "3.6.4"
  }
 },
 "nbformat": 4,
 "nbformat_minor": 2
}
